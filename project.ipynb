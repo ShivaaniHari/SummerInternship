{
 "cells": [
  {
   "cell_type": "code",
   "execution_count": 1,
   "metadata": {},
   "outputs": [
    {
     "data": {
      "text/plain": [
       "device(type='cpu')"
      ]
     },
     "execution_count": 1,
     "metadata": {},
     "output_type": "execute_result"
    }
   ],
   "source": [
    "# Importing the MNIST dataset to work on\n",
    "\n",
    "import torch\n",
    "from torch.utils.data import DataLoader\n",
    "from torchvision import datasets, transforms\n",
    "\n",
    "data_path_str = \"./data\"\n",
    "ETA = \"\\N{GREEK SMALL LETTER ETA}\"\n",
    "device = torch.device(\"cuda\" if torch.cuda.is_available() else \"cpu\")\n",
    "torch.backends.cudnn.deterministic=True\n",
    "\n",
    "transform = transforms.Compose([\n",
    "    transforms.ToTensor(),\n",
    "    # normalize by training set mean and standard deviation\n",
    "    # resulting data has mean=0 and std=1\n",
    "    transforms.Normalize((0.1307,), (0.3081,))\n",
    "])\n",
    "\n",
    "train_dataset = datasets.MNIST(data_path_str, train=True, download=True, transform=transform)\n",
    "test_loader = DataLoader(\n",
    "    datasets.MNIST(data_path_str, train=False, download=False, transform=transform),\n",
    "    # decrease batch size if running into memory issues when testing\n",
    "    # a bespoke generator is passed to avoid reproducibility issues\n",
    "    shuffle=False, drop_last=False, batch_size=10000, generator=torch.Generator())\n",
    "\n",
    "device"
   ]
  },
  {
   "cell_type": "code",
   "execution_count": 15,
   "metadata": {},
   "outputs": [],
   "source": [
    "# Partitioning data (each image into 4 parts)\n",
    "\n",
    "data1= [a[0:7] for a in train_dataset.data]\n",
    "data2= [a[8:14] for a in train_dataset.data]\n",
    "data3= [a[15:21] for a in train_dataset.data]\n",
    "data4= [a[22:28] for a in train_dataset.data]"
   ]
  },
  {
   "cell_type": "code",
   "execution_count": 42,
   "metadata": {},
   "outputs": [],
   "source": [
    "# Test dataset\n",
    "\n",
    "test_dataset= [test_loader.dataset[i][0] for i in range(len(test_loader.dataset))]\n",
    "test_labels= [test_loader.dataset[i][1] for i in range(len(test_loader.dataset))]"
   ]
  },
  {
   "cell_type": "code",
   "execution_count": 23,
   "metadata": {},
   "outputs": [],
   "source": [
    "# Creating label owner split\n",
    "from typing import cast\n",
    "\n",
    "import numpy as np\n",
    "import numpy.random as npr\n",
    "from torch.utils.data import Subset\n",
    "\n",
    "def split(nr_clients: int, seed: int) -> list[Subset]:\n",
    "    rng = npr.default_rng(seed)\n",
    "    indices= rng.permutation(len(train_dataset))\n",
    "    splits = np.array_split(indices, nr_clients)\n",
    "\n",
    "    return [Subset(train_dataset, split) for split in cast(list[list[int]], splits)], indices"
   ]
  },
  {
   "cell_type": "code",
   "execution_count": 48,
   "metadata": {},
   "outputs": [],
   "source": [
    "# Creating label split\n",
    "sample_split, sample_ids= split(5, 42)\n",
    "label_owner1= sample_split[0]\n",
    "label_id1= sample_ids[0:12000]\n",
    "\n",
    "# Aligning the data across each of the owners and label owner 1\n",
    "# Retrieving data corresponding to which labels are with label owner 1\n",
    "\n",
    "labels1= [label_owner1[i][1] for i in range(len(label_owner1))]\n",
    "dataA_label1= [data1[i] for i in label_id1]\n",
    "dataB_label1= [data2[i] for i in label_id1]\n",
    "dataC_label1= [data3[i] for i in label_id1]\n",
    "dataD_label1= [data4[i] for i in label_id1]\n",
    "data_labels1= [dataA_label1, dataB_label1, dataC_label1, dataD_label1]"
   ]
  },
  {
   "cell_type": "code",
   "execution_count": 44,
   "metadata": {},
   "outputs": [],
   "source": [
    "from pathlib import Path\n",
    "\n",
    "import pandas as pd\n",
    "import torch.optim as optim\n",
    "from sklearn.preprocessing import MinMaxScaler\n",
    "\n",
    "# Data owner neural network\n",
    "\n",
    "import torch.nn as nn\n",
    "import torch.nn.functional as F\n",
    "\n",
    "class BottomModel(nn.Module):\n",
    "    def __init__(self):\n",
    "        super(BottomModel, self).__init__()\n",
    "\n",
    "        self.conv= nn.Conv2d(1, 32, 3, 1)\n",
    "        self.drop= nn.Dropout(0.25) # To prevent overtraining\n",
    "    \n",
    "    def forward(self, x):\n",
    "        x= self.conv(x)\n",
    "        x= F.ReLU(x)\n",
    "        x= self.drop(x)\n",
    "        return x"
   ]
  },
  {
   "cell_type": "code",
   "execution_count": 45,
   "metadata": {},
   "outputs": [],
   "source": [
    "# Label owner neural network\n",
    "\n",
    "class TopModel(nn.Module):\n",
    "    def __init__(self, local_models, n_outs):\n",
    "        super(TopModel, self).__init__()\n",
    "        self.in_size = sum([local_models[i].local_out_dim for i in range(len(local_models))])\n",
    "        self.conv = nn.Conv2d(self.in_size, 128, 3, 1)\n",
    "        self.lin1 = nn.Linear(128, 256)\n",
    "        self.lin2 = nn.Linear(256, 10) # Final output = number of possible classes (10 digit types)\n",
    "        self.act = nn.LeakyReLU()\n",
    "        self.dropout = nn.Dropout(0.1)\n",
    "\n",
    "    def forward(self, x):\n",
    "        concat_outs = torch.cat(x, dim=1)  # concatenate local model outputs before forward pass\n",
    "        x = self.act(self.conv(concat_outs))\n",
    "        x = self.act(self.lin1(x))\n",
    "        x = self.act(self.lin2(x))\n",
    "        return self.dropout(x)"
   ]
  },
  {
   "cell_type": "code",
   "execution_count": 46,
   "metadata": {},
   "outputs": [],
   "source": [
    "class VFLNetwork(nn.Module):\n",
    "    def __init__(self, local_models, n_outs):\n",
    "        super(VFLNetwork, self).__init__()\n",
    "        self.bottom_models = local_models\n",
    "        self.top_model = TopModel(self.bottom_models, n_outs)\n",
    "        self.optimizer = optim.AdamW(self.parameters())\n",
    "        self.criterion = nn.CrossEntropyLoss()\n",
    "\n",
    "    def train_with_settings(self, epochs, batch_sz, x, y):\n",
    "        num_batches = len(x) // batch_sz if len(x) % batch_sz == 0 else len(x) // batch_sz + 1\n",
    "        for epoch in range(epochs):\n",
    "            self.optimizer.zero_grad()\n",
    "            total_loss = 0.0\n",
    "            correct = 0.0\n",
    "            total = 0.0\n",
    "            for minibatch in range(num_batches):\n",
    "                if minibatch == num_batches - 1:\n",
    "                    x_minibatch = [p[int(minibatch * batch_sz):] for p in x]\n",
    "                    y_minibatch = y[int(minibatch * batch_sz):]\n",
    "                else:\n",
    "                    x_minibatch = [p[int(minibatch * batch_sz):int((minibatch + 1) * batch_sz)] for p in x]\n",
    "                    y_minibatch = y[int(minibatch * batch_sz):int((minibatch + 1) * batch_sz)]\n",
    "\n",
    "                outs = self.forward(x_minibatch)\n",
    "                pred = torch.argmax(outs, dim=1)\n",
    "                actual = torch.argmax(y_minibatch, dim=1)\n",
    "                correct += torch.sum((pred == actual))\n",
    "                total += len(actual)\n",
    "                loss = self.criterion(outs, y_minibatch)\n",
    "                total_loss += loss\n",
    "                loss.backward()\n",
    "                self.optimizer.step()\n",
    "\n",
    "            print(\n",
    "                f\"Epoch: {epoch} Train accuracy: {correct * 100 / total:.2f}% Loss: {total_loss.detach().numpy()/num_batches:.3f}\")\n",
    "\n",
    "    def forward(self, x):\n",
    "        local_outs = [self.bottom_models[i](x[i]) for i in range(len(self.bottom_models))]\n",
    "        return self.top_model(local_outs)\n",
    "\n",
    "    def test(self, x, y):\n",
    "        with torch.no_grad():\n",
    "            outs = self.forward(x)\n",
    "            preds = torch.argmax(outs, dim=1)\n",
    "            actual = torch.argmax(y, dim=1)\n",
    "            accuracy = torch.sum((preds == actual)) / len(actual)\n",
    "            loss = self.criterion(outs, y)\n",
    "            return accuracy, loss\n"
   ]
  },
  {
   "cell_type": "code",
   "execution_count": 7,
   "metadata": {},
   "outputs": [],
   "source": []
  }
 ],
 "metadata": {
  "kernelspec": {
   "display_name": "venv",
   "language": "python",
   "name": "python3"
  },
  "language_info": {
   "codemirror_mode": {
    "name": "ipython",
    "version": 3
   },
   "file_extension": ".py",
   "mimetype": "text/x-python",
   "name": "python",
   "nbconvert_exporter": "python",
   "pygments_lexer": "ipython3",
   "version": "3.10.11"
  }
 },
 "nbformat": 4,
 "nbformat_minor": 2
}
